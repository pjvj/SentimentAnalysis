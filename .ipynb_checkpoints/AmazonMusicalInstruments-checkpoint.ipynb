{
 "cells": [
  {
   "cell_type": "code",
   "execution_count": 55,
   "metadata": {},
   "outputs": [],
   "source": [
    "# Imports\n",
    "import nltk\n",
    "import csv\n",
    "import re\n",
    "import pandas as pd\n",
    "import numpy as np\n",
    "from pprint import pprint\n",
    "import math\n",
    "from nltk.tokenize import WordPunctTokenizer\n",
    "from nltk.stem.snowball import SnowballStemmer\n",
    "import matplotlib.pyplot as plt\n",
    "from bs4 import BeautifulSoup"
   ]
  },
  {
   "cell_type": "code",
   "execution_count": 56,
   "metadata": {},
   "outputs": [],
   "source": [
    "\n",
    "negations_dic = { \"ain't\": \"am not\", \"aren't\": \"are not\", \"can't\": \"cannot\", \"can't've\": \"cannot have\",\n",
    "                \"'cause\": \"because\", \"could've\": \"could have\", \"couldn't\": \"could not\", \"couldn't've\": \"could not have\",\n",
    "                \"didn't\": \"did not\", \"doesn't\": \"does not\", \"don't\": \"do not\", \"hadn't\": \"had not\", \"hadn't've\": \"had not have\",\n",
    "                \"hasn't\": \"has not\", \"haven't\": \"have not\", \"he'd\": \"he would\", \"he'd've\": \"he would have\", \"he'll\": \"he will\",\n",
    "                \"he'll've\": \"he will have\", \"he's\": \"he is\", \"how'd\": \"how did\", \"how'd'y\": \"how do you\", \"how'll\": \"how will\",\n",
    "                \"how's\": \"how is\", \"i'd\": \"i would\", \"i'd've\": \"i would have\", \"i'll\": \"i will\", \"i'll've\": \"i will have\",\n",
    "                \"i'm\": \"i am\", \"i've\": \"i have\", \"isn't\": \"is not\", \"it'd\": \"it would\", \"it'd've\": \"it would have\",\n",
    "                \"it'll\": \"it will\", \"it'll've\": \"it will have\", \"it's\": \"it is\", \"let's\": \"let us\", \"ma'am\": \"madam\",\n",
    "                \"mayn't\": \"may not\", \"might've\": \"might have\", \"mightn't\": \"might not\", \"mightn't've\": \"might not have\",\n",
    "                \"must've\": \"must have\", \"mustn't\": \"must not\", \"mustn't've\": \"must not have\", \"needn't\": \"need not\",\n",
    "                \"needn't've\": \"need not have\", \"o'clock\": \"of the clock\", \"oughtn't\": \"ought not\",\n",
    "                \"oughtn't've\": \"ought not have\", \"shan't\": \"shall not\", \"sha'n't\": \"shall not\", \"shan't've\": \"shall not have\",\n",
    "                \"she'd\": \"she would\", \"she'd've\": \"she would have\", \"she'll\": \"she will\", \"she'll've\": \"she will have\",\n",
    "                \"she's\": \"she is\", \"should've\": \"should have\", \"shouldn't\": \"should not\", \"shouldn't've\": \"should not have\",\n",
    "                \"so've\": \"so have\", \"so's\": \"so is\", \"that'd\": \"that would\", \"that'd've\": \"that would have\", \"that's\": \"that is\",\n",
    "                \"there'd\": \"there would\", \"there'd've\": \"there would have\", \"there's\": \"there is\", \"they'd\": \"they would\",\n",
    "                \"they'd've\": \"they would have\", \"they'll\": \"they will\", \"they'll've\": \"they will have\", \"they're\": \"they are\",\n",
    "                \"they've\": \"they have\", \"to've\": \"to have\", \"wasn't\": \"was not\", \"we'd\": \"we would\", \"we'd've\": \"we would have\",\n",
    "                \"we'll\": \"we will\", \"we'll've\": \"we will have\", \"we're\": \"we are\", \"we've\": \"we have\", \"weren't\": \"were not\",\n",
    "                \"what'll\": \"what will\", \"what'll've\": \"what will have\", \"what're\": \"what are\", \"what's\": \"what is\",\n",
    "                \"what've\": \"what have\", \"when's\": \"when is\", \"when've\": \"when have\", \"where'd\": \"where did\",\n",
    "                \"where's\": \"where is\", \"where've\": \"where have\", \"who'll\": \"who will\", \"who'll've\": \"who will have\",\n",
    "                \"who's\": \"who is\", \"who've\": \"who have\", \"why's\": \"why is\", \"why've\": \"why have\", \"will've\": \"will have\",\n",
    "                \"won't\": \"will not\", \"won't've\": \"will not have\", \"would've\": \"would have\", \"wouldn't\": \"would not\",\n",
    "                \"wouldn't've\": \"would not have\", \"y'all\": \"you all\", \"y'all'd\": \"you all would\",\n",
    "                \"y'all'd've\": \"you all would have\", \"y'all're\": \"you all are\", \"y'all've\": \"you all have\", \"you'd\": \"you would\",\n",
    "                \"you'd've\": \"you would have\", \"you'll\": \"you will\", \"you'll've\": \"you will have\", \"you're\": \"you are\",\n",
    "                \"you've\": \"you have\", \"ve\": \"have\", \"favor\":\"favour\", \"favorite\":\"favourite\", \"color\":\"colour\",\n",
    "                \"behavior\": \"behaviour\", \"labor\": \"labour\", \"neighbor\": \"neighbour\", \"flavor\":\"flavour\"}\n",
    "\n",
    "neg_pattern = re.compile(r'\\b(' + '|'.join(negations_dic.keys()) + r')\\b')\n",
    "\n",
    "class Splitter(object):\n",
    "    def __init__(self):\n",
    "        self.nltk_splitter = nltk.data.load('tokenizers/punkt/english.pickle')\n",
    "        self.nltk_tokenizer = nltk.tokenize.TreebankWordTokenizer()\n",
    "    def split(self, text):\n",
    "        sentences = self.nltk_splitter.tokenize(text)\n",
    "        tokenized_sentences = [self.nltk_tokenizer.tokenize(sent) for sent in sentences]\n",
    "        return tokenized_sentences\n",
    "\n",
    "class POSTagger(object):\n",
    "    def __init__(self):\n",
    "        pass\n",
    "    def pos_tag(self, sentences):\n",
    "        pos = [nltk.pos_tag(sentence) for sentence in sentences]\n",
    "        pos = [[(word, word, [postag]) for (word, postag) in sentence] for sentence in pos]\n",
    "        return pos\n",
    "    \n",
    "splitter = Splitter()\n",
    "tok = WordPunctTokenizer()\n",
    "postagger = POSTagger()\n",
    "stemmer = SnowballStemmer(\"english\")\n",
    "\n",
    "\n",
    "pat1 = r'@[A-Za-z0-9]+'\n",
    "pat2 = r'https?://[A-Za-z0-9./]+'\n",
    "combined_pat = r'|'.join((pat1, pat2))\n",
    "\n",
    "\n",
    "def review_cleaner(text):\n",
    "#     print(\"one\")\n",
    "    soup = BeautifulSoup(text, 'lxml')\n",
    "#     print(\"two\")\n",
    "    souped = soup.get_text()\n",
    "#     print(\"three\")\n",
    "    stripped = re.sub(combined_pat, '', souped)\n",
    "#     print(\"four\")\n",
    "    try:\n",
    "        clean = stripped.decode(\"utf-8-sig\").replace(u\"\\ufffd\", \"?\")\n",
    "    except:\n",
    "        clean = stripped\n",
    "    lower_case=\"\"\n",
    "    for i in range(0,len(clean)):\n",
    "        if text[i].isalpha():\n",
    "            lower_case=lower_case+text[i].lower()\n",
    "        elif text[i].isdigit():\n",
    "            lower_case=lower_case\n",
    "        else:\n",
    "            lower_case=lower_case+text[i]\n",
    "    neg_handled = neg_pattern.sub(lambda x: negations_dic[x.group()], lower_case)\n",
    "    letters_only = re.sub(\"[^a-zA-Z]\", \" \", neg_handled)\n",
    "    words = [x for x  in tok.tokenize(letters_only) if len(x) > 1]\n",
    "    forpos= \" \".join(words).strip()\n",
    "    splitted_sentences = splitter.split(forpos)\n",
    "    pos_tagged_sentences = postagger.pos_tag(splitted_sentences)\n",
    "    altered_text=\"\"\n",
    "    for sentences in pos_tagged_sentences:\n",
    "        for word in sentences:\n",
    "            v=word[2]\n",
    "            for val in v:\n",
    "                if (val==\"JJ\" or val==\"JJR\" or val==\"JJS\" or val==\"VB\" or val==\"VBD\" or val==\"VBG\"\n",
    "                    or val==\"VBN\" or val==\"VBP\" or val==\"VBZ\" or val==\"RB\" or val==\"RBR\" or val==\"RBS\" ):\n",
    "                    altered_text=altered_text+stemmer.stem(word[0])+\" \"\n",
    "    return altered_text"
   ]
  },
  {
   "cell_type": "code",
   "execution_count": 113,
   "metadata": {},
   "outputs": [
    {
     "name": "stdout",
     "output_type": "stream",
     "text": [
      "(6000, 2)\n",
      "4    3598\n",
      "0    1226\n",
      "2    1176\n",
      "Name: rating, dtype: int64\n"
     ]
    },
    {
     "data": {
      "text/html": [
       "<div>\n",
       "<style scoped>\n",
       "    .dataframe tbody tr th:only-of-type {\n",
       "        vertical-align: middle;\n",
       "    }\n",
       "\n",
       "    .dataframe tbody tr th {\n",
       "        vertical-align: top;\n",
       "    }\n",
       "\n",
       "    .dataframe thead th {\n",
       "        text-align: right;\n",
       "    }\n",
       "</style>\n",
       "<table border=\"1\" class=\"dataframe\">\n",
       "  <thead>\n",
       "    <tr style=\"text-align: right;\">\n",
       "      <th></th>\n",
       "      <th>reviewText</th>\n",
       "      <th>rating</th>\n",
       "    </tr>\n",
       "  </thead>\n",
       "  <tbody>\n",
       "    <tr>\n",
       "      <th>0</th>\n",
       "      <td>this box is very well made and will last a lon...</td>\n",
       "      <td>4</td>\n",
       "    </tr>\n",
       "    <tr>\n",
       "      <th>1</th>\n",
       "      <td>I've bought a half dozen of these to keep in a...</td>\n",
       "      <td>4</td>\n",
       "    </tr>\n",
       "    <tr>\n",
       "      <th>2</th>\n",
       "      <td>It does what its supposed to. I really like th...</td>\n",
       "      <td>4</td>\n",
       "    </tr>\n",
       "    <tr>\n",
       "      <th>3</th>\n",
       "      <td>I would recommend the D'Addario Prelude violin...</td>\n",
       "      <td>4</td>\n",
       "    </tr>\n",
       "    <tr>\n",
       "      <th>4</th>\n",
       "      <td>I have seven of these that I use on my Ibanez ...</td>\n",
       "      <td>4</td>\n",
       "    </tr>\n",
       "    <tr>\n",
       "      <th>5</th>\n",
       "      <td>I purchased this wax for a brand new guitar to...</td>\n",
       "      <td>4</td>\n",
       "    </tr>\n",
       "    <tr>\n",
       "      <th>6</th>\n",
       "      <td>This product is great, I use it after every se...</td>\n",
       "      <td>4</td>\n",
       "    </tr>\n",
       "    <tr>\n",
       "      <th>7</th>\n",
       "      <td>Yeah, i bought these for my friend' s band and...</td>\n",
       "      <td>4</td>\n",
       "    </tr>\n",
       "    <tr>\n",
       "      <th>8</th>\n",
       "      <td>I got this mic to record a vocal podcast and s...</td>\n",
       "      <td>4</td>\n",
       "    </tr>\n",
       "    <tr>\n",
       "      <th>9</th>\n",
       "      <td>This is a terrific product.  While the price m...</td>\n",
       "      <td>4</td>\n",
       "    </tr>\n",
       "  </tbody>\n",
       "</table>\n",
       "</div>"
      ],
      "text/plain": [
       "                                          reviewText  rating\n",
       "0  this box is very well made and will last a lon...       4\n",
       "1  I've bought a half dozen of these to keep in a...       4\n",
       "2  It does what its supposed to. I really like th...       4\n",
       "3  I would recommend the D'Addario Prelude violin...       4\n",
       "4  I have seven of these that I use on my Ibanez ...       4\n",
       "5  I purchased this wax for a brand new guitar to...       4\n",
       "6  This product is great, I use it after every se...       4\n",
       "7  Yeah, i bought these for my friend' s band and...       4\n",
       "8  I got this mic to record a vocal podcast and s...       4\n",
       "9  This is a terrific product.  While the price m...       4"
      ]
     },
     "execution_count": 113,
     "metadata": {},
     "output_type": "execute_result"
    }
   ],
   "source": [
    "# Store amazon reviews file in pandas dataframes\n",
    "df = pd.read_csv(\"amazonmusical_reviews.csv\")\n",
    "df.drop(['sno','reviewerID','asin','reviewerName','helpful__001','helpful__002','overall','summary',\n",
    "            'unixReviewTime','reviewTime','label'],axis=1,inplace=True)\n",
    "print(df.shape)\n",
    "print(df.rating.value_counts())\n",
    "df.head(10)"
   ]
  },
  {
   "cell_type": "code",
   "execution_count": 114,
   "metadata": {},
   "outputs": [
    {
     "name": "stdout",
     "output_type": "stream",
     "text": [
      "2    3598\n",
      "0    1226\n",
      "1    1176\n",
      "Name: rating, dtype: int64\n"
     ]
    },
    {
     "data": {
      "text/html": [
       "<div>\n",
       "<style scoped>\n",
       "    .dataframe tbody tr th:only-of-type {\n",
       "        vertical-align: middle;\n",
       "    }\n",
       "\n",
       "    .dataframe tbody tr th {\n",
       "        vertical-align: top;\n",
       "    }\n",
       "\n",
       "    .dataframe thead th {\n",
       "        text-align: right;\n",
       "    }\n",
       "</style>\n",
       "<table border=\"1\" class=\"dataframe\">\n",
       "  <thead>\n",
       "    <tr style=\"text-align: right;\">\n",
       "      <th></th>\n",
       "      <th>reviewText</th>\n",
       "      <th>rating</th>\n",
       "    </tr>\n",
       "  </thead>\n",
       "  <tbody>\n",
       "    <tr>\n",
       "      <th>0</th>\n",
       "      <td>this box is very well made and will last a lon...</td>\n",
       "      <td>2</td>\n",
       "    </tr>\n",
       "    <tr>\n",
       "      <th>1</th>\n",
       "      <td>I've bought a half dozen of these to keep in a...</td>\n",
       "      <td>2</td>\n",
       "    </tr>\n",
       "    <tr>\n",
       "      <th>2</th>\n",
       "      <td>It does what its supposed to. I really like th...</td>\n",
       "      <td>2</td>\n",
       "    </tr>\n",
       "    <tr>\n",
       "      <th>3</th>\n",
       "      <td>I would recommend the D'Addario Prelude violin...</td>\n",
       "      <td>2</td>\n",
       "    </tr>\n",
       "    <tr>\n",
       "      <th>4</th>\n",
       "      <td>I have seven of these that I use on my Ibanez ...</td>\n",
       "      <td>2</td>\n",
       "    </tr>\n",
       "    <tr>\n",
       "      <th>5</th>\n",
       "      <td>I purchased this wax for a brand new guitar to...</td>\n",
       "      <td>2</td>\n",
       "    </tr>\n",
       "    <tr>\n",
       "      <th>6</th>\n",
       "      <td>This product is great, I use it after every se...</td>\n",
       "      <td>2</td>\n",
       "    </tr>\n",
       "    <tr>\n",
       "      <th>7</th>\n",
       "      <td>Yeah, i bought these for my friend' s band and...</td>\n",
       "      <td>2</td>\n",
       "    </tr>\n",
       "    <tr>\n",
       "      <th>8</th>\n",
       "      <td>I got this mic to record a vocal podcast and s...</td>\n",
       "      <td>2</td>\n",
       "    </tr>\n",
       "    <tr>\n",
       "      <th>9</th>\n",
       "      <td>This is a terrific product.  While the price m...</td>\n",
       "      <td>2</td>\n",
       "    </tr>\n",
       "  </tbody>\n",
       "</table>\n",
       "</div>"
      ],
      "text/plain": [
       "                                          reviewText  rating\n",
       "0  this box is very well made and will last a lon...       2\n",
       "1  I've bought a half dozen of these to keep in a...       2\n",
       "2  It does what its supposed to. I really like th...       2\n",
       "3  I would recommend the D'Addario Prelude violin...       2\n",
       "4  I have seven of these that I use on my Ibanez ...       2\n",
       "5  I purchased this wax for a brand new guitar to...       2\n",
       "6  This product is great, I use it after every se...       2\n",
       "7  Yeah, i bought these for my friend' s band and...       2\n",
       "8  I got this mic to record a vocal podcast and s...       2\n",
       "9  This is a terrific product.  While the price m...       2"
      ]
     },
     "execution_count": 114,
     "metadata": {},
     "output_type": "execute_result"
    }
   ],
   "source": [
    "\n",
    "df.loc[((df[\"rating\"]==2)),'rating']=1\n",
    "df.loc[((df[\"rating\"]==4)),'rating']=2\n",
    "print(df.rating.value_counts())\n",
    "df.head(10)\n"
   ]
  },
  {
   "cell_type": "code",
   "execution_count": 115,
   "metadata": {},
   "outputs": [],
   "source": [
    "# Create clean review file \n",
    "df=df.fillna(\"are\")\n",
    "clean_review_texts = np.empty([1, 2], dtype=object)\n",
    "for i in range(0,len(df)):\n",
    "    clean_review_texts=np.append(clean_review_texts, np.array([[review_cleaner(df.iloc[i]['reviewText']),df.iloc[i]['rating']]]), axis=0)\n",
    "clean_review_texts=np.delete(clean_review_texts, 0, 0)\n",
    "clean_df = pd.DataFrame(clean_review_texts,columns=['text','target'])    \n",
    "clean_df.to_csv('amazonmusical_clean_review.csv', encoding='utf-8')"
   ]
  },
  {
   "cell_type": "code",
   "execution_count": 116,
   "metadata": {},
   "outputs": [
    {
     "name": "stdout",
     "output_type": "stream",
     "text": [
      "Number of features:  4957\n"
     ]
    }
   ],
   "source": [
    "from sklearn.feature_extraction.text import CountVectorizer\n",
    "\n",
    "my_df = pd.read_csv('amazonmusical_clean_review.csv',index_col=0)\n",
    "cvec = CountVectorizer(dtype='float32')\n",
    "#cvec.fit(my_df.text)\n",
    "my_df=my_df.fillna(\"are\")\n",
    "cvec.fit_transform(my_df['text'].values.astype('U'))\n",
    "l=len(cvec.get_feature_names())\n",
    "print(\"Number of features: \",l)\n",
    "neg_doc_matrix = cvec.transform(my_df[my_df.target ==0 ].text)\n",
    "neu_doc_matrix = cvec.transform(my_df[my_df.target ==1 ].text)\n",
    "pos_doc_matrix = cvec.transform(my_df[my_df.target ==2 ].text)\n",
    "neg_tf = np.sum(neg_doc_matrix,axis=0)\n",
    "neu_tf = np.sum(neu_doc_matrix,axis=0)\n",
    "pos_tf = np.sum(pos_doc_matrix,axis=0)\n",
    "neg = np.squeeze(np.asarray((neg_tf)))\n",
    "neu = np.squeeze(np.asarray((neu_tf)))\n",
    "pos = np.squeeze(np.asarray((pos_tf)))\n",
    "\n",
    "term_freq_df = pd.DataFrame([neg,neu,pos],columns=cvec.get_feature_names()).transpose()\n",
    "term_freq_df.head()\n",
    "term_freq_df.columns = ['negative','neutral','positive']\n",
    "term_freq_df['total'] = term_freq_df['negative'] +term_freq_df['neutral'] +term_freq_df['positive']\n",
    "#document_matrix = cvec.transform(my_df.text)\n",
    "term_freq_df.to_csv('amazonmusical_term_freq.csv',encoding='utf-8')\n",
    "\n",
    "term_freq_df_new = pd.read_csv('amazonmusical_term_freq.csv',index_col=0)\n",
    "#print(term_freq_tfidf)\n",
    "lexicon_df = pd.DataFrame([neg,neu,pos],columns=cvec.get_feature_names()).transpose()\n",
    "lexicon_df.columns = ['negative', 'neutral','positive']\n",
    "for i in range(0,l):\n",
    "    tot=term_freq_df_new.iloc[i]['total']\n",
    "    nn=term_freq_df_new.iloc[i]['negative']\n",
    "    nu=term_freq_df_new.iloc[i]['neutral']\n",
    "    ps=term_freq_df_new.iloc[i]['positive']\n",
    "    if nn==0:\n",
    "        lexicon_df.iloc[i]['negative']=0\n",
    "    elif nn==tot:\n",
    "        lexicon_df.iloc[i]['negative']=2.5*nn\n",
    "    else:\n",
    "        lexicon_df.iloc[i]['negative']=1/(math.log((tot/nn),10))\n",
    "    \n",
    "    if nu==0:\n",
    "        lexicon_df.iloc[i]['neutral']=0\n",
    "    elif nu==tot:\n",
    "        lexicon_df.iloc[i]['neutral']=2.5*nu\n",
    "    else:\n",
    "        lexicon_df.iloc[i]['neutral']=1/(math.log((tot/nu),10))\n",
    "     \n",
    "    if ps==0:\n",
    "        lexicon_df.iloc[i]['positive']=0\n",
    "    elif ps==tot:\n",
    "        lexicon_df.iloc[i]['positive']=2.5*ps\n",
    "    else:\n",
    "        lexicon_df.iloc[i]['positive']=1/(math.log((tot/ps),10))\n",
    "        #print(1/(math.log((tot/ps),10)))\n",
    "        #print(float(term_freq_tfidff.iloc[i]['positive']))\n",
    "\n",
    "lexicon_df.to_csv('amazonmusical_lexicon.csv',encoding='utf-8') \n"
   ]
  },
  {
   "cell_type": "code",
   "execution_count": 117,
   "metadata": {},
   "outputs": [
    {
     "name": "stdout",
     "output_type": "stream",
     "text": [
      "0\n",
      "3000\n"
     ]
    }
   ],
   "source": [
    "createfeed=pd.read_csv('amazonmusical_lexicon.csv',index_col=0)\n",
    "columns=[\"Sno\",\"freq_neg\",\"freq_neu\",\"freq_pos\",\"overall\"]\n",
    "# my_df=my_df.fillna(\"are\")\n",
    "ok=len(my_df)\n",
    "#print(my_df.isnull())\n",
    "feature_values=[0,0,0]\n",
    "#print(feature_values)\n",
    "\n",
    "with open('amazonmusical_feed.csv','w') as myfile:\n",
    "    wr = csv.writer(myfile,quoting=csv.QUOTE_NONE)\n",
    "    wr.writerow(columns)\n",
    "    for i in range(0,ok):\n",
    "        if i%(ok//2)==0:\n",
    "            print(i)\n",
    "        feature_values=[0,0,0]\n",
    "        text_for_comparison = my_df.iloc[i]['text']\n",
    "        if text_for_comparison not in (None, \" \",\"are\"):\n",
    "            words= text_for_comparison.split()\n",
    "            for j in range(0,len(words)):\n",
    "                if ('nan' not in words) & ('null' not in words) :\n",
    "                    feature_values = np.add(feature_values,[createfeed.loc[words[j]][0],createfeed.loc[words[j]][1],createfeed.loc[words[j]][2]])\n",
    "                else:\n",
    "                    feature_values = np.add(feature_values,[0,0,0])\n",
    "                #print(feature_values)\n",
    "            feature_values = feature_values.tolist()\n",
    "            #print(feature_values)\n",
    "            feature_values.insert(0, i)\n",
    "#             new_lab=int(my_df.iloc[i]['label']/2)\n",
    "            new_lab=my_df.iloc[i]['target']\n",
    "            feature_values.insert(4, new_lab)\n",
    "            wr.writerow(feature_values)   \n"
   ]
  },
  {
   "cell_type": "code",
   "execution_count": 118,
   "metadata": {},
   "outputs": [
    {
     "name": "stdout",
     "output_type": "stream",
     "text": [
      "6000\n"
     ]
    }
   ],
   "source": [
    "print(ok)"
   ]
  },
  {
   "cell_type": "code",
   "execution_count": 119,
   "metadata": {},
   "outputs": [
    {
     "name": "stdout",
     "output_type": "stream",
     "text": [
      "6000\n",
      "Sno,freq_neg,freq_neu,freq_pos,overall\n",
      "\n"
     ]
    }
   ],
   "source": [
    "import numpy as np\n",
    "import keras\n",
    "import keras.utils\n",
    "from keras.utils import to_categorical\n",
    "with open('amazonmusical_feed.csv') as f:\n",
    "    content = f.readlines()\n",
    "lines = np.array(content) \n",
    "num_of_instances = lines.size\n",
    "print(num_of_instances)\n",
    "print(lines[0])"
   ]
  },
  {
   "cell_type": "code",
   "execution_count": 120,
   "metadata": {},
   "outputs": [],
   "source": [
    "x_all, y_all = [], []\n",
    "for i in range(1, num_of_instances):\n",
    "    val = [0, 0, 0]\n",
    "    s, val[0], val[1], val[2] ,label = lines[i].split(\",\")\n",
    "        \n",
    "    #print(newlabel)\n",
    "    final_val = np.array(val, 'float32')\n",
    "    class_label = keras.utils.to_categorical(label,3)\n",
    "    #class_label=class_label[0:3]\n",
    "    y_all.append(class_label)\n",
    "    x_all.append(final_val)"
   ]
  },
  {
   "cell_type": "code",
   "execution_count": 121,
   "metadata": {},
   "outputs": [
    {
     "name": "stdout",
     "output_type": "stream",
     "text": [
      "(5999, 3)\n",
      "(5999, 3)\n",
      "[[0. 0. 1.]\n",
      " [0. 0. 1.]\n",
      " [0. 0. 1.]\n",
      " ...\n",
      " [1. 0. 0.]\n",
      " [1. 0. 0.]\n",
      " [1. 0. 0.]]\n",
      "5999\n"
     ]
    }
   ],
   "source": [
    "x_all = np.array(x_all)\n",
    "print(np.shape(x_all))\n",
    "y_all = np.array(y_all)\n",
    "print(np.shape(y_all))\n",
    "print(y_all)\n",
    "print(len(x_all))"
   ]
  },
  {
   "cell_type": "code",
   "execution_count": 122,
   "metadata": {},
   "outputs": [],
   "source": [
    "from random import shuffle\n",
    "ind_list = [i for i in range(len(x_all))]\n",
    "shuffle(ind_list)\n",
    "x_all  = x_all[ind_list,]\n",
    "y_all = y_all[ind_list,]"
   ]
  },
  {
   "cell_type": "code",
   "execution_count": 123,
   "metadata": {},
   "outputs": [],
   "source": [
    "import keras\n",
    "from keras.models import Sequential\n",
    "from keras.layers import Dense, Activation, Dropout\n",
    "\n",
    "modelsentif=Sequential()\n",
    "\n",
    "modelsentif.add(Dense(8,input_shape=(3,)))\n",
    "modelsentif.add(Activation(\"sigmoid\"))\n",
    "# modelsentif.add(Dropout(0.2))\n",
    "modelsentif.add(Dense(3))\n",
    "modelsentif.add(Activation(\"softmax\"))"
   ]
  },
  {
   "cell_type": "code",
   "execution_count": 124,
   "metadata": {
    "scrolled": true
   },
   "outputs": [
    {
     "name": "stdout",
     "output_type": "stream",
     "text": [
      "Train on 4499 samples, validate on 1500 samples\n",
      "Epoch 1/40\n",
      "4499/4499 [==============================] - 1s 270us/step - loss: 1.2164 - acc: 0.1718 - val_loss: 1.1363 - val_acc: 0.1580\n",
      "Epoch 2/40\n",
      "4499/4499 [==============================] - 0s 20us/step - loss: 1.0608 - acc: 0.3296 - val_loss: 0.9968 - val_acc: 0.7080\n",
      "Epoch 3/40\n",
      "4499/4499 [==============================] - 0s 19us/step - loss: 0.9498 - acc: 0.7099 - val_loss: 0.8944 - val_acc: 0.7300\n",
      "Epoch 4/40\n",
      "4499/4499 [==============================] - 0s 24us/step - loss: 0.8726 - acc: 0.7135 - val_loss: 0.8252 - val_acc: 0.7373\n",
      "Epoch 5/40\n",
      "4499/4499 [==============================] - 0s 22us/step - loss: 0.8167 - acc: 0.7124 - val_loss: 0.7757 - val_acc: 0.7387\n",
      "Epoch 6/40\n",
      "4499/4499 [==============================] - 0s 22us/step - loss: 0.7757 - acc: 0.7144 - val_loss: 0.7353 - val_acc: 0.7373\n",
      "Epoch 7/40\n",
      "4499/4499 [==============================] - 0s 23us/step - loss: 0.7293 - acc: 0.7164 - val_loss: 0.6741 - val_acc: 0.7260\n",
      "Epoch 8/40\n",
      "4499/4499 [==============================] - 0s 19us/step - loss: 0.6805 - acc: 0.7144 - val_loss: 0.6451 - val_acc: 0.7407\n",
      "Epoch 9/40\n",
      "4499/4499 [==============================] - 0s 18us/step - loss: 0.6530 - acc: 0.7673 - val_loss: 0.6213 - val_acc: 0.8207\n",
      "Epoch 10/40\n",
      "4499/4499 [==============================] - 0s 22us/step - loss: 0.6287 - acc: 0.8191 - val_loss: 0.5986 - val_acc: 0.8347\n",
      "Epoch 11/40\n",
      "4499/4499 [==============================] - 0s 24us/step - loss: 0.6067 - acc: 0.8320 - val_loss: 0.5785 - val_acc: 0.8393\n",
      "Epoch 12/40\n",
      "4499/4499 [==============================] - 0s 22us/step - loss: 0.5865 - acc: 0.8342 - val_loss: 0.5595 - val_acc: 0.8440\n",
      "Epoch 13/40\n",
      "4499/4499 [==============================] - 0s 19us/step - loss: 0.5690 - acc: 0.8373 - val_loss: 0.5417 - val_acc: 0.8540\n",
      "Epoch 14/40\n",
      "4499/4499 [==============================] - 0s 18us/step - loss: 0.5501 - acc: 0.8466 - val_loss: 0.5245 - val_acc: 0.8573\n",
      "Epoch 15/40\n",
      "4499/4499 [==============================] - 0s 18us/step - loss: 0.5344 - acc: 0.8493 - val_loss: 0.5103 - val_acc: 0.8600\n",
      "Epoch 16/40\n",
      "4499/4499 [==============================] - 0s 19us/step - loss: 0.5190 - acc: 0.8520 - val_loss: 0.4959 - val_acc: 0.8587\n",
      "Epoch 17/40\n",
      "4499/4499 [==============================] - 0s 21us/step - loss: 0.5060 - acc: 0.8811 - val_loss: 0.4834 - val_acc: 0.8987\n",
      "Epoch 18/40\n",
      "4499/4499 [==============================] - 0s 20us/step - loss: 0.4937 - acc: 0.8960 - val_loss: 0.4715 - val_acc: 0.9013\n",
      "Epoch 19/40\n",
      "4499/4499 [==============================] - 0s 20us/step - loss: 0.4819 - acc: 0.8993 - val_loss: 0.4602 - val_acc: 0.8993\n",
      "Epoch 20/40\n",
      "4499/4499 [==============================] - 0s 18us/step - loss: 0.4722 - acc: 0.9009 - val_loss: 0.4502 - val_acc: 0.9007\n",
      "Epoch 21/40\n",
      "4499/4499 [==============================] - 0s 19us/step - loss: 0.4614 - acc: 0.9002 - val_loss: 0.4397 - val_acc: 0.9027\n",
      "Epoch 22/40\n",
      "4499/4499 [==============================] - 0s 23us/step - loss: 0.4509 - acc: 0.9009 - val_loss: 0.4298 - val_acc: 0.9007\n",
      "Epoch 23/40\n",
      "4499/4499 [==============================] - 0s 29us/step - loss: 0.4419 - acc: 0.9040 - val_loss: 0.4215 - val_acc: 0.9040\n",
      "Epoch 24/40\n",
      "4499/4499 [==============================] - 0s 21us/step - loss: 0.4334 - acc: 0.9033 - val_loss: 0.4130 - val_acc: 0.9047\n",
      "Epoch 25/40\n",
      "4499/4499 [==============================] - 0s 21us/step - loss: 0.4234 - acc: 0.9049 - val_loss: 0.4010 - val_acc: 0.9060\n",
      "Epoch 26/40\n",
      "4499/4499 [==============================] - 0s 20us/step - loss: 0.4147 - acc: 0.9042 - val_loss: 0.3955 - val_acc: 0.9060\n",
      "Epoch 27/40\n",
      "4499/4499 [==============================] - 0s 20us/step - loss: 0.4071 - acc: 0.9046 - val_loss: 0.3877 - val_acc: 0.9073\n",
      "Epoch 28/40\n",
      "4499/4499 [==============================] - 0s 22us/step - loss: 0.4002 - acc: 0.9069 - val_loss: 0.3829 - val_acc: 0.9087\n",
      "Epoch 29/40\n",
      "4499/4499 [==============================] - 0s 22us/step - loss: 0.3957 - acc: 0.9042 - val_loss: 0.3761 - val_acc: 0.9060\n",
      "Epoch 30/40\n",
      "4499/4499 [==============================] - 0s 22us/step - loss: 0.3900 - acc: 0.9062 - val_loss: 0.3726 - val_acc: 0.9080\n",
      "Epoch 31/40\n",
      "4499/4499 [==============================] - 0s 27us/step - loss: 0.3844 - acc: 0.9042 - val_loss: 0.3664 - val_acc: 0.9107\n",
      "Epoch 32/40\n",
      "4499/4499 [==============================] - 0s 22us/step - loss: 0.3798 - acc: 0.9055 - val_loss: 0.3612 - val_acc: 0.9100\n",
      "Epoch 33/40\n",
      "4499/4499 [==============================] - 0s 19us/step - loss: 0.3765 - acc: 0.9042 - val_loss: 0.3569 - val_acc: 0.9113\n",
      "Epoch 34/40\n",
      "4499/4499 [==============================] - 0s 17us/step - loss: 0.3709 - acc: 0.9073 - val_loss: 0.3518 - val_acc: 0.9113\n",
      "Epoch 35/40\n",
      "4499/4499 [==============================] - 0s 19us/step - loss: 0.3669 - acc: 0.9055 - val_loss: 0.3476 - val_acc: 0.9113\n",
      "Epoch 36/40\n",
      "4499/4499 [==============================] - 0s 19us/step - loss: 0.3625 - acc: 0.9082 - val_loss: 0.3435 - val_acc: 0.9107\n",
      "Epoch 37/40\n",
      "4499/4499 [==============================] - 0s 22us/step - loss: 0.3593 - acc: 0.9060 - val_loss: 0.3390 - val_acc: 0.9067\n",
      "Epoch 38/40\n",
      "4499/4499 [==============================] - 0s 19us/step - loss: 0.3564 - acc: 0.9073 - val_loss: 0.3354 - val_acc: 0.9073\n",
      "Epoch 39/40\n",
      "4499/4499 [==============================] - 0s 21us/step - loss: 0.3523 - acc: 0.9064 - val_loss: 0.3316 - val_acc: 0.9113\n",
      "Epoch 40/40\n",
      "4499/4499 [==============================] - ETA: 0s - loss: 0.3372 - acc: 0.911 - 0s 23us/step - loss: 0.3490 - acc: 0.9071 - val_loss: 0.3287 - val_acc: 0.9113\n"
     ]
    }
   ],
   "source": [
    "modelsentif.compile(optimizer=keras.optimizers.Adam(), loss=\"categorical_crossentropy\", metrics=[\"accuracy\"])\n",
    "\n",
    "histsentif = modelsentif.fit(x_all, y_all, epochs=40, batch_size=128, validation_split=0.25, verbose=1)"
   ]
  },
  {
   "cell_type": "code",
   "execution_count": 125,
   "metadata": {},
   "outputs": [
    {
     "data": {
      "image/png": "[encoded data removed]",
      "text/plain": [
       "<Figure size 432x288 with 1 Axes>"
      ]
     },
     "metadata": {
      "needs_background": "light"
     },
     "output_type": "display_data"
    },
    {
     "data": {
      "image/png": "[encoded data removed]",
      "text/plain": [
       "<Figure size 432x288 with 1 Axes>"
      ]
     },
     "metadata": {
      "needs_background": "light"
     },
     "output_type": "display_data"
    }
   ],
   "source": [
    "# summarize history for accuracy\n",
    "plt.plot(histsentif.history['acc'])\n",
    "plt.plot(histsentif.history['val_acc'])\n",
    "plt.title('Sentiment Dataset Model Accuracy')\n",
    "plt.ylabel('accuracy')\n",
    "plt.xlabel('epoch')\n",
    "plt.legend(['train', 'test'], loc='upper left')\n",
    "plt.show()\n",
    "# summarize history for loss\n",
    "plt.plot(histsentif.history['loss'])\n",
    "plt.plot(histsentif.history['val_loss'])\n",
    "plt.title('Sentiment Dataset Model Loss')\n",
    "plt.ylabel('loss')\n",
    "plt.xlabel('epoch')\n",
    "plt.legend(['train', 'test'], loc='upper left')\n",
    "plt.show()"
   ]
  },
  {
   "cell_type": "code",
   "execution_count": 126,
   "metadata": {},
   "outputs": [
    {
     "name": "stdout",
     "output_type": "stream",
     "text": [
      "Saved model to disk\n",
      "Loaded model from disk\n"
     ]
    }
   ],
   "source": [
    "# serialize model to JSON\n",
    "modelsentif_json = modelsentif.to_json()\n",
    "with open(\"modelamazonmusic.json\", \"w\") as json_file:\n",
    "    json_file.write(modelsentif_json)\n",
    "# serialize weights to HDF5\n",
    "modelsentif.save_weights(\"modelamazonmusic.h5\")\n",
    "print(\"Saved model to disk\")\n",
    "\n",
    "\n",
    "from keras.models import model_from_json\n",
    "# load json and create model\n",
    "json_file = open('modelamazonmusic.json', 'r')\n",
    "loaded_model_json = json_file.read()\n",
    "json_file.close()\n",
    "loaded_model = model_from_json(loaded_model_json)\n",
    "# load weights into new model\n",
    "loaded_model.load_weights(\"modelamazonmusic.h5\")\n",
    "print(\"Loaded model from disk\")"
   ]
  },
  {
   "cell_type": "code",
   "execution_count": 127,
   "metadata": {},
   "outputs": [],
   "source": [
    "from sklearn.metrics import classification_report, confusion_matrix\n",
    "pred_list = []; actual_list = []\n",
    "predictions = loaded_model.predict(x_all)\n",
    "for i in predictions:\n",
    "    pred_list.append(np.argmax(i))\n",
    "for i in y_all:\n",
    "    actual_list.append(np.argmax(i))\n",
    "cnf_matrix=confusion_matrix(actual_list, pred_list)"
   ]
  },
  {
   "cell_type": "code",
   "execution_count": 128,
   "metadata": {},
   "outputs": [],
   "source": [
    "import itertools\n",
    "import numpy as np\n",
    "import matplotlib.pyplot as plt\n",
    "from sklearn import svm, datasets\n",
    "from sklearn.model_selection import train_test_split\n",
    "from sklearn.metrics import confusion_matrix\n",
    "\n",
    "def plot_confusion_matrix(cm, classes,\n",
    "                          normalize=False,\n",
    "                          title='Confusion matrix',\n",
    "                          cmap=plt.cm.Blues):\n",
    "    \"\"\"\n",
    "    This function prints and plots the confusion matrix.\n",
    "    Normalization can be applied by setting `normalize=True`.\n",
    "    \"\"\"\n",
    "    if normalize:\n",
    "        cm = cm.astype('float') / cm.sum(axis=1)[:, np.newaxis]\n",
    "        print(\"Normalized confusion matrix\")\n",
    "    else:\n",
    "        print('Confusion matrix, without normalization')\n",
    "\n",
    "    print(cm)\n",
    "    print(len(classes))\n",
    "    plt.imshow(cm, interpolation='nearest', cmap=cmap)\n",
    "    plt.title(title)\n",
    "    plt.colorbar()\n",
    "    tick_marks = np.arange(len(classes))\n",
    "    plt.xticks(tick_marks, classes, rotation=45)\n",
    "    plt.yticks(tick_marks, classes)\n",
    "\n",
    "    fmt = '.2f' if normalize else 'd'\n",
    "    thresh = cm.max() / 2.\n",
    "    for i, j in itertools.product(range(cm.shape[0]), range(cm.shape[1])):\n",
    "        plt.text(j, i, format(cm[i, j], fmt),\n",
    "                 horizontalalignment=\"center\",\n",
    "                 color=\"white\" if cm[i, j] > thresh else \"black\")\n",
    "\n",
    "    plt.ylabel('True label')\n",
    "    plt.xlabel('Predicted label')\n",
    "    plt.tight_layout()"
   ]
  },
  {
   "cell_type": "code",
   "execution_count": 129,
   "metadata": {},
   "outputs": [
    {
     "name": "stdout",
     "output_type": "stream",
     "text": [
      "Confusion matrix, without normalization\n",
      "[[1118   44   64]\n",
      " [  52  904  220]\n",
      " [  66   97 3434]]\n",
      "3\n"
     ]
    },
    {
     "data": {
      "image/png": "[encoded data removed]",
      "text/plain": [
       "<Figure size 432x288 with 2 Axes>"
      ]
     },
     "metadata": {
      "needs_background": "light"
     },
     "output_type": "display_data"
    }
   ],
   "source": [
    "# Plot non-normalized confusion matrix\n",
    "class_names =['negative','neutral','positive']\n",
    "plt.figure()\n",
    "plot_confusion_matrix(cnf_matrix, classes=class_names, title='Confusion matrix; Sentiment Dataset')\n",
    "plt.show()"
   ]
  },
  {
   "cell_type": "code",
   "execution_count": 136,
   "metadata": {},
   "outputs": [
    {
     "name": "stdout",
     "output_type": "stream",
     "text": [
      "['', '', 'were', 'torn', 'defect']\n",
      "[0.81265867 0.14221533 0.04512606]\n"
     ]
    }
   ],
   "source": [
    "# Test model on actual input\n",
    "import pandas as pd\n",
    "createfeed=pd.read_csv('amazonmusical_lexicon.csv',index_col=0)\n",
    "feature_values=[0,0,0]\n",
    "str = \"The drums were torned and defective\"\n",
    "str_result =  review_cleaner(str)\n",
    "words= str_result.split()\n",
    "words.insert(0, '')\n",
    "words.insert(0, '')\n",
    "print(words)\n",
    "for j in range(2,len(words)):\n",
    "    try:\n",
    "        if (words[j-1]==\"not\" and words[j-2]!=\"not\") or (words[j-1]!=\"not\" and words[j-2]==\"not\"):\n",
    "            feature_values = np.add(feature_values,[createfeed.loc[words[j]][2],createfeed.loc[words[j]][1],createfeed.loc[words[j]][0]])\n",
    "        else:\n",
    "            feature_values = np.add(feature_values,[createfeed.loc[words[j]][0],createfeed.loc[words[j]][1],createfeed.loc[words[j]][2]])\n",
    "    except:\n",
    "        continue\n",
    "feature_values = feature_values.tolist()\n",
    "test_case = np.array(feature_values)\n",
    "\n",
    "checker = []\n",
    "checker.append(test_case)\n",
    "checker = np.array(checker)\n",
    "\n",
    "custom = modelsentif.predict(checker)\n",
    "print(custom[0])\n",
    "\n",
    "# Order: negative, neutral, positive"
   ]
  },
  {
   "cell_type": "code",
   "execution_count": null,
   "metadata": {},
   "outputs": [],
   "source": []
  }
 ],
 "metadata": {
  "kernelspec": {
   "display_name": "Python 3",
   "language": "python",
   "name": "python3"
  },
  "language_info": {
   "codemirror_mode": {
    "name": "ipython",
    "version": 3
   },
   "file_extension": ".py",
   "mimetype": "text/x-python",
   "name": "python",
   "nbconvert_exporter": "python",
   "pygments_lexer": "ipython3",
   "version": "3.6.5"
  }
 },
 "nbformat": 4,
 "nbformat_minor": 2
}
